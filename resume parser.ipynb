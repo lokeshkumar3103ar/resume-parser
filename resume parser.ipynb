{
 "cells": [
  {
   "cell_type": "code",
   "execution_count": 7,
   "id": "3af91e05-b5d4-459b-8bda-1ebc029e5683",
   "metadata": {},
   "outputs": [
    {
     "name": "stdout",
     "output_type": "stream",
     "text": [
      "Collecting pdfminer.six\n",
      "  Downloading pdfminer.six-20240706-py3-none-any.whl.metadata (4.1 kB)\n",
      "Requirement already satisfied: charset-normalizer>=2.0.0 in c:\\users\\lokes\\appdata\\local\\programs\\python\\python313\\lib\\site-packages (from pdfminer.six) (3.4.0)\n",
      "Collecting cryptography>=36.0.0 (from pdfminer.six)\n",
      "  Downloading cryptography-43.0.3-cp39-abi3-win_amd64.whl.metadata (5.4 kB)\n",
      "Requirement already satisfied: cffi>=1.12 in c:\\users\\lokes\\appdata\\local\\programs\\python\\python313\\lib\\site-packages (from cryptography>=36.0.0->pdfminer.six) (1.17.1)\n",
      "Requirement already satisfied: pycparser in c:\\users\\lokes\\appdata\\local\\programs\\python\\python313\\lib\\site-packages (from cffi>=1.12->cryptography>=36.0.0->pdfminer.six) (2.22)\n",
      "Downloading pdfminer.six-20240706-py3-none-any.whl (5.6 MB)\n",
      "   ---------------------------------------- 0.0/5.6 MB ? eta -:--:--\n",
      "   ----------- ---------------------------- 1.6/5.6 MB 8.7 MB/s eta 0:00:01\n",
      "   ---------------------- ----------------- 3.1/5.6 MB 8.7 MB/s eta 0:00:01\n",
      "   ------------------------------- -------- 4.5/5.6 MB 7.0 MB/s eta 0:00:01\n",
      "   ---------------------------------------  5.5/5.6 MB 6.6 MB/s eta 0:00:01\n",
      "   ---------------------------------------- 5.6/5.6 MB 6.5 MB/s eta 0:00:00\n",
      "Downloading cryptography-43.0.3-cp39-abi3-win_amd64.whl (3.1 MB)\n",
      "   ---------------------------------------- 0.0/3.1 MB ? eta -:--:--\n",
      "   -------------------- ------------------- 1.6/3.1 MB 9.1 MB/s eta 0:00:01\n",
      "   ---------------------------------- ----- 2.6/3.1 MB 6.8 MB/s eta 0:00:01\n",
      "   ---------------------------------------- 3.1/3.1 MB 5.6 MB/s eta 0:00:00\n",
      "Installing collected packages: cryptography, pdfminer.six\n",
      "Successfully installed cryptography-43.0.3 pdfminer.six-20240706\n",
      "Note: you may need to restart the kernel to use updated packages.\n"
     ]
    }
   ],
   "source": [
    "pip install pdfminer.six\n"
   ]
  },
  {
   "cell_type": "code",
   "execution_count": 1,
   "id": "217c638f-9ff5-41a1-bb80-ca9c6e25685f",
   "metadata": {},
   "outputs": [
    {
     "name": "stdout",
     "output_type": "stream",
     "text": [
      "Lokesh Kumar A R\n",
      "Chennai, Tamil Nadu • lokeshkumar3103ar@gmail.com • linkedin.com/in/lokesh-kumar-a-r-465218244\n",
      "\n",
      "Internship\n",
      "\n",
      "As a driven Computer Science and Engineering student at Hindustan University, I’m passionate about AI\n",
      "development and cutting-edge technologies. My expertise in prompt engineering, artificial intelligence, and data\n",
      "analytics enables me to create impactful solutions that address real-world problems. With hands-on experience in C++\n",
      "programming, ChatGPT, and generative AI, I specialize in transforming complex challenges into efficient, scalable\n",
      "systems.\n",
      "\n",
      "Having successfully completed projects and internships, I’ve developed strong skills in software development, data\n",
      "analysis, and automation, with a knack for leveraging machine learning and data-driven insights. My commitment to\n",
      "continuous learning keeps me at the forefront of evolving technologies, making me a valuable asset to any forward-\n",
      "thinking team. I aim to contribute to innovative projects that shape the future of artificial intelligence and emerging\n",
      "technologies.\n",
      "\n",
      "WORK EXPERIENCE\n",
      "\n",
      "07/2023 - Present\n",
      "\n",
      "09/2023 - 10/2023\n",
      "\n",
      "Hindustan University • Chennai, Tamil Nadu, India\n",
      "Student\n",
      "Topperworld\n",
      "Programmer\n",
      "C++ Intern at Topperworld\n",
      "•\n",
      "\n",
      "Completed C++ programming tasks within the four-week internship at Topperworld, demonstrating rapid skill\n",
      "development and commitment to learning.\n",
      "\n",
      "•\n",
      "\n",
      "@Topperworld\n",
      "\n",
      "EDUCATION\n",
      "\n",
      "Bachelor of Technology - BTech in Computer Science\n",
      "Hindustan University • GPA: 9.68 CGPA\n",
      "Skills: Coding Experience · Engineering · Research Skills · Problem Solving · Interpersonal Skills · Data Structures · C\n",
      "(Programming Language) · Communication · Team Leadership · Microsoft PowerPoint\n",
      "HSSC\n",
      "The Ashok Leyland School\n",
      "\n",
      "01/2009 - 12/2023\n",
      "\n",
      "Skills: Research Skills · Interpersonal Skills · Communication\n",
      "\n",
      "CERTIFICATIONS\n",
      "\n",
      "Getting started with Git and GitHub\n",
      "IBM\n",
      "ChatGPT Prompt Engineering for Developers\n",
      "DeepLearning.AI\n",
      "Google Data Analytics Specialization\n",
      "Coursera\n",
      "Introduction to Generative AI\n",
      "Google Cloud Skills Boost\n",
      "\n",
      "SKILLS\n",
      "\n",
      "Artificial Intelligence (AI), C++, ChatGPT, Communication, Generative AI, Git, GitHub, Microsoft PowerPoint,\n",
      "Problem Solving, Prompt Engineering, Python (Programming Language) , Research Skills, Team Leadership\n",
      "\n",
      "\f",
      "\n"
     ]
    }
   ],
   "source": [
    "from pdfminer.high_level import extract_text\n",
    " \n",
    "def extract_text_from_pdf(pdf_path):\n",
    "    return extract_text(pdf_path)\n",
    " \n",
    "if __name__ == '__main__':\n",
    "    print(extract_text_from_pdf(r\"my resume - 2024-10-10 17_45_57.pdf\"))"
   ]
  },
  {
   "cell_type": "code",
   "execution_count": 2,
   "id": "25682522-e192-4541-a7f9-d9cfa2c766ba",
   "metadata": {},
   "outputs": [
    {
     "name": "stdout",
     "output_type": "stream",
     "text": [
      "Name: Lokesh Kumar\n"
     ]
    }
   ],
   "source": [
    "import pdfminer\n",
    "import re\n",
    "\n",
    "def extract_text_from_pdf(pdf_path):\n",
    "    return extract_text(pdf_path)\n",
    "\n",
    "def extract_name_from_resume(text):\n",
    "    name = None\n",
    "\n",
    "    # Use regex pattern to find a potential name\n",
    "    pattern = r\"(\\b[A-Z][a-z]+\\b)\\s(\\b[A-Z][a-z]+\\b)\"\n",
    "    match = re.search(pattern, text)\n",
    "    if match:\n",
    "        name = match.group()\n",
    "\n",
    "    return name\n",
    "\n",
    "if __name__ == '__main__':\n",
    "    text = extract_text_from_pdf(r\"my resume - 2024-10-10 17_45_57.pdf\")\n",
    "    name = extract_name_from_resume(text)\n",
    "\n",
    "    if name:\n",
    "        print(\"Name:\", name)\n",
    "    else:\n",
    "        print(\"Name not found\")"
   ]
  },
  {
   "cell_type": "code",
   "execution_count": 3,
   "id": "ea736040-f7f8-448e-90c5-dbe65b745c9f",
   "metadata": {},
   "outputs": [
    {
     "name": "stdout",
     "output_type": "stream",
     "text": [
      "Contact Number not found\n"
     ]
    }
   ],
   "source": [
    "def extract_text_from_pdf(pdf_path):\n",
    "    return extract_text(pdf_path)\n",
    "\n",
    "def extract_contact_number_from_resume(text):\n",
    "    contact_number = None\n",
    "\n",
    "    # Use regex pattern to find a potential contact number\n",
    "    pattern = r\"\\b(?:\\+?\\d{1,3}[-.\\s]?)?\\(?\\d{3}\\)?[-.\\s]?\\d{3}[-.\\s]?\\d{4}\\b\"\n",
    "    match = re.search(pattern, text)\n",
    "    if match:\n",
    "        contact_number = match.group()\n",
    "\n",
    "    return contact_number\n",
    "\n",
    "if __name__ == '__main__':\n",
    "    text = extract_text_from_pdf(r\"my resume - 2024-10-10 17_45_57.pdf\")\n",
    "    contact_number = extract_contact_number_from_resume(text)\n",
    "\n",
    "    if contact_number:\n",
    "        print(\"Contact Number:\", contact_number)\n",
    "    else:\n",
    "        print(\"Contact Number not found\")"
   ]
  },
  {
   "cell_type": "code",
   "execution_count": 4,
   "id": "a431107c-5740-4b85-9fd3-27a9f1fa3af8",
   "metadata": {},
   "outputs": [
    {
     "name": "stdout",
     "output_type": "stream",
     "text": [
      "Email: lokeshkumar3103ar@gmail.com\n"
     ]
    }
   ],
   "source": [
    "def extract_text_from_pdf(pdf_path):\n",
    "    return extract_text(pdf_path)\n",
    "\n",
    "def extract_email_from_resume(text):\n",
    "    email = None\n",
    "\n",
    "    # Use regex pattern to find a potential email address\n",
    "    pattern = r\"\\b[A-Za-z0-9._%+-]+@[A-Za-z0-9.-]+\\.[A-Za-z]{2,}\\b\"\n",
    "    match = re.search(pattern, text)\n",
    "    if match:\n",
    "        email = match.group()\n",
    "\n",
    "    return email\n",
    "\n",
    "if __name__ == '__main__':\n",
    "    text = extract_text_from_pdf(r\"my resume - 2024-10-10 17_45_57.pdf\")\n",
    "    email = extract_email_from_resume(text)\n",
    "\n",
    "    if email:\n",
    "        print(\"Email:\", email)\n",
    "    else:\n",
    "        print(\"Email not found\")"
   ]
  },
  {
   "cell_type": "code",
   "execution_count": 5,
   "id": "aca2486a-4c6c-4c57-9ae3-b7bf7db1bcde",
   "metadata": {},
   "outputs": [
    {
     "name": "stdout",
     "output_type": "stream",
     "text": [
      "Skills: ['Python', 'Machine Learning', 'Communication', 'AI', 'Prompt Engineering']\n"
     ]
    }
   ],
   "source": [
    "def extract_text_from_pdf(pdf_path):\n",
    "    return extract_text(pdf_path)\n",
    "\n",
    "def extract_skills_from_resume(text, skills_list):\n",
    "    skills = []\n",
    "\n",
    "    # Search for skills in the resume text\n",
    "    for skill in skills_list:\n",
    "        pattern = r\"\\b{}\\b\".format(re.escape(skill))\n",
    "        match = re.search(pattern, text, re.IGNORECASE)\n",
    "        if match:\n",
    "            skills.append(skill)\n",
    "\n",
    "    return skills\n",
    "\n",
    "if __name__ == '__main__':\n",
    "    text = extract_text_from_pdf(r\"my resume - 2024-10-10 17_45_57.pdf\")\n",
    "\n",
    "    # List of predefined skills\n",
    "    skills_list = ['Python', 'Data Analysis', 'Machine Learning', 'Communication', 'Project Management', 'Deep Learning', 'AI', 'Prompt Engineering']\n",
    "\n",
    "    extracted_skills = extract_skills_from_resume(text, skills_list)\n",
    "\n",
    "    if extracted_skills:\n",
    "        print(\"Skills:\", extracted_skills)\n",
    "    else:\n",
    "        print(\"No skills found\")"
   ]
  },
  {
   "cell_type": "code",
   "execution_count": 7,
   "id": "f8391acc-e9ee-4904-80b6-effa0ba10cd6",
   "metadata": {},
   "outputs": [
    {
     "name": "stdout",
     "output_type": "stream",
     "text": [
      "Education: ['BTech in Computer Science\\nHindustan University']\n"
     ]
    }
   ],
   "source": [
    "def extract_text_from_pdf(pdf_path):\n",
    "    return extract_text(pdf_path)\n",
    "\n",
    "def extract_education_from_resume(text):\n",
    "    education = []\n",
    "\n",
    "    # Use regex pattern to find education information\n",
    "    pattern = r\"(?i)(?:(?:Bachelor of Technology|B\\.Tech|BTech)\\s(?:in\\s)?(?:[A-Za-z]+\\s)*[A-Za-z]+)\"\n",
    "    matches = re.findall(pattern, text)\n",
    "    for match in matches:\n",
    "        education.append(match.strip())\n",
    "\n",
    "    return education\n",
    "\n",
    "if __name__ == '__main__':\n",
    "    text = extract_text_from_pdf(r\"my resume - 2024-10-10 17_45_57.pdf\")\n",
    "\n",
    "    extracted_education = extract_education_from_resume(text)\n",
    "    if extracted_education:\n",
    "        print(\"Education:\", extracted_education)\n",
    "    else:\n",
    "        print(\"No education information found\")"
   ]
  },
  {
   "cell_type": "code",
   "execution_count": 8,
   "id": "9fbba582-761d-440e-8b51-05894b52e167",
   "metadata": {},
   "outputs": [
    {
     "name": "stdout",
     "output_type": "stream",
     "text": [
      "Education: ['Bachelor of Technology']\n"
     ]
    }
   ],
   "source": [
    "def extract_text_from_pdf(pdf_path):\n",
    "    return extract_text(pdf_path)\n",
    "\n",
    "def extract_education_from_resume(text):\n",
    "    education = []\n",
    "\n",
    "    # Use regex pattern to find education information\n",
    "    pattern = r\"(?i)(?:Bsc|\\bB\\.\\w+|\\bM\\.\\w+|\\bPh\\.D\\.\\w+|\\bBachelor(?:'s)?|\\bMaster(?:'s)?|\\bPh\\.D)\\s(?:\\w+\\s)*\\w+\"\n",
    "    matches = re.findall(pattern, text)\n",
    "    for match in matches:\n",
    "        education.append(match.strip())\n",
    "\n",
    "    return education\n",
    "\n",
    "if __name__ == '__main__':\n",
    "    text = extract_text_from_pdf(r\"my resume - 2024-10-10 17_45_57.pdf\")\n",
    "\n",
    "    extracted_education = extract_education_from_resume(text)\n",
    "    if extracted_education:\n",
    "        print(\"Education:\", extracted_education)\n",
    "    else:\n",
    "        print(\"No education information found\")"
   ]
  },
  {
   "cell_type": "code",
   "execution_count": null,
   "id": "cb4048a4-fed0-4656-aab5-f6053a9489b6",
   "metadata": {},
   "outputs": [],
   "source": []
  },
  {
   "cell_type": "code",
   "execution_count": null,
   "id": "cb9c87b7-2511-490f-af2d-c67388713d72",
   "metadata": {},
   "outputs": [],
   "source": []
  }
 ],
 "metadata": {
  "kernelspec": {
   "display_name": "Python 3 (ipykernel)",
   "language": "python",
   "name": "python3"
  },
  "language_info": {
   "codemirror_mode": {
    "name": "ipython",
    "version": 3
   },
   "file_extension": ".py",
   "mimetype": "text/x-python",
   "name": "python",
   "nbconvert_exporter": "python",
   "pygments_lexer": "ipython3",
   "version": "3.13.0"
  }
 },
 "nbformat": 4,
 "nbformat_minor": 5
}
